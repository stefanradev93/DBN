{
 "cells": [
  {
   "cell_type": "code",
   "execution_count": 1,
   "metadata": {
    "code_folding": [
     15
    ]
   },
   "outputs": [],
   "source": [
    "# Compute KL-divergence between predictive distributions at trial t and t+1\n",
    "def KLdiv(prob_from,prob_to):\n",
    "    klv = np.array([sum(prob_to[i] * np.log(prob_to[i]/prob_from[i])) for i in range(len(prob_from))])\n",
    "    return klv\n",
    "\n",
    "# Compute Surprise between predictive distribution and likelihood at trial t\n",
    "def Surprise(lik,pre):\n",
    "    s = np.array([-np.log(sum(lik[i]*pre[i])) for i in range(len(pre))])\n",
    "    return s\n",
    "\n",
    "# Compute the entropy of the predictive distribution at trial t\n",
    "def Entropy(pre):\n",
    "    h = np.array([-sum(pre[i] * np.log(pre[i])) for i in range(len(pre))])\n",
    "    return h\n",
    "\n",
    "def ITmeasures(D,M,params):\n",
    "    # D: observed data array [Z, Y]\n",
    "    # M: Empirical Matching Matrix\n",
    "    # params: parameter vector [epsilon, xi]\n",
    "    epsilon_par, xi_par = params\n",
    "    vartheta_par=.99\n",
    "    lambda_par=.99\n",
    "    z = D[:,0]\n",
    "    y = D[:,1]\n",
    "    max_trials = len(M)\n",
    "    s = np.zeros((max_trials,3), dtype=int) # Initialize the signal vector\n",
    "    omega = np.zeros((max_trials,3)) # Initialize the vector of the attention to reward process\n",
    "    pre = np.zeros((max_trials,3)) # Initialize the vector of the predictive (prior) probabilities\n",
    "    lik = np.zeros((max_trials,3)) # Initialize the vector of likelihoods\n",
    "    post = np.zeros((max_trials,3)) # Initialize the vector of posteriors\n",
    "    pre[0] = np.array([1/3,1/3,1/3])\n",
    "    s[0] = y[0] == M[0] \n",
    "    omega[0] = smoothVec(z[0],s[0],epsilon_par,lambda_par,xi_par,np.array([0.5,0.5,0.5]))\n",
    "    lik[0] = Likelihood(s[0],z[0],vartheta_par)\n",
    "    post[0] = Posterior(lik[0],pre[0])\n",
    "    G = TransMat(omega[0])\n",
    "    for t in range(1,max_trials):\n",
    "        pre[t] = ChapmanKolmogorov(G, post[t-1]) # Compute predictive distribution\n",
    "        s[t] = y[t] == M[t] # signal\n",
    "        omega[t] = smoothVec(z[t],s[t],epsilon_par,lambda_par,xi_par,omega[t-1]) # Update omega\n",
    "        lik[t] = Likelihood(s[t],z[t],vartheta_par) # Compute Likelihood of the observation given the states\n",
    "        post[t] = Posterior(lik[t],pre[t]) # Compute posterior distribution over the hidden states\n",
    "        G = TransMat(omega[t]) # Update Stability Matrix\n",
    "    \n",
    "    B = KLdiv(pre[0:127],pre[1:128])\n",
    "    I = Surprise(lik[0:127],pre[0:127])\n",
    "    H = Entropy(pre[0:127])\n",
    "    # KL-divergence, Surprise, Entropy \n",
    "    return np.c_[B,I,H]"
   ]
  },
  {
   "cell_type": "code",
   "execution_count": null,
   "metadata": {},
   "outputs": [],
   "source": []
  }
 ],
 "metadata": {
  "kernelspec": {
   "display_name": "Python 3",
   "language": "python",
   "name": "python3"
  },
  "language_info": {
   "codemirror_mode": {
    "name": "ipython",
    "version": 3
   },
   "file_extension": ".py",
   "mimetype": "text/x-python",
   "name": "python",
   "nbconvert_exporter": "python",
   "pygments_lexer": "ipython3",
   "version": "3.6.8"
  },
  "toc": {
   "base_numbering": 1,
   "nav_menu": {},
   "number_sections": true,
   "sideBar": true,
   "skip_h1_title": false,
   "title_cell": "Table of Contents",
   "title_sidebar": "Contents",
   "toc_cell": false,
   "toc_position": {},
   "toc_section_display": true,
   "toc_window_display": false
  }
 },
 "nbformat": 4,
 "nbformat_minor": 2
}
