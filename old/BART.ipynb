{
 "cells": [
  {
   "cell_type": "code",
   "execution_count": 1,
   "metadata": {},
   "outputs": [],
   "source": [
    "import numpy as np"
   ]
  },
  {
   "cell_type": "code",
   "execution_count": 41,
   "metadata": {},
   "outputs": [],
   "source": [
    "def GenBART(pars,p,Ntrials):\n",
    "    gamma = pars[0]\n",
    "    beta = pars[1]\n",
    "    Y = np.zeros((Ntrials,10))-1\n",
    "    burst = np.random.choice([4,5,6,7,8],36,replace=True)\n",
    "    omega = -gamma/(np.log(1-p))\n",
    "    for j in range(0,Ntrials):\n",
    "        for k in range(0,10):\n",
    "            theta = 1/(1+np.exp(beta*(k-omega)))\n",
    "            Y[j,k] = np.random.binomial(1,theta,1)\n",
    "            if k == burst[j]:\n",
    "                break\n",
    "            if Y[j,k] == 0:\n",
    "                break\n",
    "    return(Y)"
   ]
  }
 ],
 "metadata": {
  "kernelspec": {
   "display_name": "Python 3",
   "language": "python",
   "name": "python3"
  },
  "language_info": {
   "codemirror_mode": {
    "name": "ipython",
    "version": 3
   },
   "file_extension": ".py",
   "mimetype": "text/x-python",
   "name": "python",
   "nbconvert_exporter": "python",
   "pygments_lexer": "ipython3",
   "version": "3.7.1"
  }
 },
 "nbformat": 4,
 "nbformat_minor": 2
}
